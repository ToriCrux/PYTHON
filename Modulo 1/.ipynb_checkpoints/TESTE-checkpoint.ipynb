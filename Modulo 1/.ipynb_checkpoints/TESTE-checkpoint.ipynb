{
 "cells": [
  {
   "cell_type": "markdown",
   "id": "fc79056b",
   "metadata": {},
   "source": [
    "### MEU PRIMEIRO PROGRAMA, AULA COM O CURSO HASHTAG!"
   ]
  },
  {
   "cell_type": "markdown",
   "id": "62af80ba",
   "metadata": {},
   "source": [
    "######     A função print é uma função de saída que possibilita que o usuário visualize um retorno de ação cometida pelo Python."
   ]
  },
  {
   "cell_type": "code",
   "execution_count": 11,
   "id": "61f55acb",
   "metadata": {},
   "outputs": [
    {
     "name": "stdout",
     "output_type": "stream",
     "text": [
      "Hello World!\n"
     ]
    }
   ],
   "source": [
    "print( \"Hello World!\")"
   ]
  },
  {
   "cell_type": "markdown",
   "id": "d58fd647",
   "metadata": {},
   "source": [
    "#### OPERAÇÕES MATEMÁTICAS"
   ]
  },
  {
   "cell_type": "markdown",
   "id": "e10b2914",
   "metadata": {},
   "source": [
    "###### Através do Python é possível realizar operações matemáticas de forma bem intuitiva. Abaixo é possível entender como realizar cada operação e na sequência exemplos dessas operações:\n",
    "    \n",
    "    * SOMA: assim como conhecemos o símbolo que representa a soma é o sinal de + ;\n",
    "    * SUBTRAÇÃO: o sinal que possibilita essa operação também é como o convencional que conhecemos - ;\n",
    "    * MULTIPLICAÇÃO: para essa operação matemática o sinal é um pouco diferente, sendo ele representado por * ;\n",
    "    * POTÊNCIA: é possível através do Python realizar de forma prática a operação de multiplicação, para isso basta utilizar o símbolo ** ;\n",
    "    * DIVISÃO: esse é um símbolo que também temos familiaridade, para representar essa ação é utilizado a / ;\n",
    "    * RESTO DA DIVISÃO: uma operação também possível é a de calcular o resto de uma divisão matemática, para isso basta usar % ;\n",
    "        \n",
    "###### OBS.: Caso você realize qualquer operação dentro de aspas o Python reconhece essa ação como texto e não realiza a operação em si, retornando assim um resultado diferente do esperado;\n",
    "\n",
    "###### OBS1.: Para realizar operações com números decimais (float) é necessário que se use \".\" ao invés de \",\";\n",
    "\n",
    "###### OBS2.: As operações no Python seguem as mesmas lógicas e ordens de operações matemáticas;\n"
   ]
  },
  {
   "cell_type": "code",
   "execution_count": 14,
   "id": "8ab7c64b",
   "metadata": {},
   "outputs": [
    {
     "name": "stdout",
     "output_type": "stream",
     "text": [
      "2\n",
      "1 + 1\n",
      "15\n",
      "220\n",
      "58.2\n",
      "729\n",
      "12.333333333333334\n",
      "3\n"
     ]
    }
   ],
   "source": [
    "# EXEMPLOS DE OPERAÇÕES MATEMÁTICAS\n",
    "\n",
    "print (1 + 1)\n",
    "print (\"1 + 1\")\n",
    "print (38 - 23)\n",
    "print (55 * 4)\n",
    "print (29.1 * 2)\n",
    "print (9 ** 3)\n",
    "print (74 / 6)\n",
    "print (27 % 8)"
   ]
  },
  {
   "cell_type": "markdown",
   "id": "4155328c",
   "metadata": {},
   "source": [
    "#### OPERAÇÕES COM TEXTO (STRING)"
   ]
  },
  {
   "cell_type": "markdown",
   "id": "e9186545",
   "metadata": {},
   "source": [
    "###### O que é uma string?\n",
    "###### São justamente os formatos de texto que se encontram, geralmente, entre aspas (podendo elas serem simples ou duplas). E com os textos também é possível realizar operações, como as seguintes:\n",
    "    * CONCATENAÇÃO: Através do simbolo de +, essa função realiza uma operação de junção de dois textos;\n",
    "    * IN: uma função que faz uma verificação dentro do texto, vale ressaltar que essa função é case sensitive (vê diferença entre letras maiusculas e minusculas);\n",
    "    "
   ]
  },
  {
   "cell_type": "code",
   "execution_count": 2,
   "id": "40992d63",
   "metadata": {},
   "outputs": [
    {
     "name": "stdout",
     "output_type": "stream",
     "text": [
      "Meu nome éVitória\n",
      "Meu nome é Vitória\n",
      "False\n",
      "True\n"
     ]
    }
   ],
   "source": [
    "print (\"Meu nome é\" + \"Vitória\")\n",
    "print (\"Meu nome é\" + \" Vitória\")\n",
    "print (\"Rato\" in \"O rato roeu a roupa do Rei de Roma\")\n",
    "print (\"doce\" in \"Qual é o doce mais doce que o doce de batata doce?\")"
   ]
  },
  {
   "cell_type": "markdown",
   "id": "769aa570",
   "metadata": {},
   "source": [
    "#### VARIAVEIS"
   ]
  },
  {
   "cell_type": "markdown",
   "id": "ac6cf4d0",
   "metadata": {},
   "source": [
    "###### O que são variáveis?\n",
    "###### Variaveis são nomes que damos para algum valor específico, retornando assim esse valor de forma mais dinâmica, pois ao invés de escrevermos ele várias vezes ao longo do código iremos escrever o nome da variável.\n",
    "###### Como boas práticas temos que:\n",
    "###### Nome da variável - não podemos ter espaço no nome da variavel então geralmente utilizamos  _  para separar ou colocamos a primeira letra da segunda palavra em maiusculo, podendo assim distinguir uma palavra de outra;\n",
    "###### O igual - não se interpreta que \"o nome da variavel igual ao valor\", e sim que \" o nome da variavel RECEBE o valor\";\n"
   ]
  },
  {
   "cell_type": "code",
   "execution_count": 17,
   "id": "c93975ba",
   "metadata": {},
   "outputs": [
    {
     "name": "stdout",
     "output_type": "stream",
     "text": [
      "1500\n",
      "Café&Expresso\n",
      "A vendedora Julia foi a funcionária do mês comtribuindo para a recadação do maior lucro de vendas da Café&Expresso\n"
     ]
    }
   ],
   "source": [
    "qntd_vendas = 1500\n",
    "qntdVendas = 20000\n",
    "nome_vendedor = \"Julia\"\n",
    "nomeLoja = \"Café&Expresso\"\n",
    "print (qntd_vendas)\n",
    "print (nomeLoja)\n",
    "print (\"A vendedora \" + nome_vendedor + \" foi a funcionária do mês comtribuindo para a recadação do maior lucro de vendas da \" + nomeLoja)"
   ]
  },
  {
   "cell_type": "markdown",
   "id": "1a8e91c9",
   "metadata": {},
   "source": [
    "![ALT](https://i.pinimg.com/originals/51/77/ad/5177ad1107d8046f14273e35c8dab1b2.jpg)"
   ]
  },
  {
   "cell_type": "code",
   "execution_count": null,
   "id": "4e854a1f",
   "metadata": {},
   "outputs": [],
   "source": []
  }
 ],
 "metadata": {
  "kernelspec": {
   "display_name": "Python 3 (ipykernel)",
   "language": "python",
   "name": "python3"
  },
  "language_info": {
   "codemirror_mode": {
    "name": "ipython",
    "version": 3
   },
   "file_extension": ".py",
   "mimetype": "text/x-python",
   "name": "python",
   "nbconvert_exporter": "python",
   "pygments_lexer": "ipython3",
   "version": "3.9.13"
  },
  "vscode": {
   "interpreter": {
    "hash": "93847afed7b0c9c5f4d42e27bddbcf9b8e94491f502db8e56043127f6574bd34"
   }
  }
 },
 "nbformat": 4,
 "nbformat_minor": 5
}
