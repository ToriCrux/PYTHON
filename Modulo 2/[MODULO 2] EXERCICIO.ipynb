{
 "cells": [
  {
   "cell_type": "markdown",
   "id": "bb0f9514",
   "metadata": {},
   "source": [
    "# Lista de Estrutura Sequencial"
   ]
  },
  {
   "cell_type": "markdown",
   "id": "4e7a8c30",
   "metadata": {},
   "source": [
    "#### 1. Faça um Programa que mostre a mensagem (print) \"Olá mundo\" na tela."
   ]
  },
  {
   "cell_type": "code",
   "execution_count": null,
   "id": "883bfe85",
   "metadata": {},
   "outputs": [],
   "source": [
    "print(\"Olá mundo\")"
   ]
  },
  {
   "cell_type": "markdown",
   "id": "71d6d6a2",
   "metadata": {},
   "source": [
    "#### 2. Faça um Programa que peça um número (input) e então mostre a mensagem: \"O número informado foi [número].\""
   ]
  },
  {
   "cell_type": "code",
   "execution_count": 1,
   "id": "30cfffcf",
   "metadata": {},
   "outputs": [
    {
     "name": "stdout",
     "output_type": "stream",
     "text": [
      "Digite um número7\n",
      "O número informado foi: 7\n"
     ]
    }
   ],
   "source": [
    "numero = input(\"Digite um número\")\n",
    "print(\"O número informado foi: {}\" .format(numero))"
   ]
  },
  {
   "cell_type": "markdown",
   "id": "c5e43160",
   "metadata": {},
   "source": [
    "#### 3. Faça um Programa que peça dois números e imprima a soma."
   ]
  },
  {
   "cell_type": "code",
   "execution_count": 2,
   "id": "b0e79590",
   "metadata": {},
   "outputs": [
    {
     "name": "stdout",
     "output_type": "stream",
     "text": [
      "Insira um número:1\n",
      "Insira outro número:3\n",
      "A soma dos números indicados é de: 4\n"
     ]
    }
   ],
   "source": [
    "num1 = int(input(\"Insira um número:\"))\n",
    "num2 = int(input(\"Insira outro número:\"))\n",
    "soma = num1 + num2\n",
    "\n",
    "print(\"A soma dos números indicados é de: {}\" .format(soma))"
   ]
  },
  {
   "cell_type": "markdown",
   "id": "17826987",
   "metadata": {},
   "source": [
    "#### 4. Faça um Programa que peça as 4 notas bimestrais de um aluno e mostre a média de todas as notas."
   ]
  },
  {
   "cell_type": "code",
   "execution_count": 3,
   "id": "23b66762",
   "metadata": {},
   "outputs": [
    {
     "name": "stdout",
     "output_type": "stream",
     "text": [
      "Primeira nota: 4\n",
      "Segunda nota: 4\n",
      "Terceira nota: 4\n",
      "Quarta nota: 4\n",
      "A média é de: 4.0\n"
     ]
    }
   ],
   "source": [
    "nota1 = int(input(\"Primeira nota: \"))\n",
    "nota2 = int(input(\"Segunda nota: \"))\n",
    "nota3 = int(input(\"Terceira nota: \"))\n",
    "nota4 = int(input(\"Quarta nota: \"))\n",
    "media = (nota1 + nota2 + nota3 + nota4)/4\n",
    "\n",
    "print(\"A média é de: {}\" .format(media))"
   ]
  },
  {
   "cell_type": "markdown",
   "id": "62d461c5",
   "metadata": {},
   "source": [
    "#### 5. Faça um Programa que converta metros para centímetros. Você pode pedir o comprimento em metros para o usuário (input)."
   ]
  },
  {
   "cell_type": "code",
   "execution_count": 4,
   "id": "d642f1ba",
   "metadata": {},
   "outputs": [
    {
     "name": "stdout",
     "output_type": "stream",
     "text": [
      "Medida para conversão (colocar em metros): 2\n",
      "A conversão para centrimetros é de: 200\n"
     ]
    }
   ],
   "source": [
    "metros = int(input(\"Medida para conversão (colocar em metros): \"))\n",
    "centimetros = metros * 100\n",
    "\n",
    "print(\"A conversão para centrimetros é de: {}\" .format(centimetros))"
   ]
  },
  {
   "cell_type": "markdown",
   "id": "f1311697",
   "metadata": {},
   "source": [
    "#### 7. Faça um Programa que calcule a área de uma sala de um apartamento. Para isso, o seu programa precisa pedir a largura da sala, o comprimento da sala e imprimir a área em m² da sala."
   ]
  },
  {
   "cell_type": "code",
   "execution_count": 8,
   "id": "612ea24b",
   "metadata": {},
   "outputs": [
    {
     "name": "stdout",
     "output_type": "stream",
     "text": [
      "Informe a largura da sala: 8\n",
      "Informe o comprimento da sala: 15\n",
      "A área da sala é de: 120m²\n"
     ]
    }
   ],
   "source": [
    "largura = int(input(\"Informe a largura da sala: \"))\n",
    "comprimento = int(input(\"Informe o comprimento da sala: \"))\n",
    "metros_quadrados = largura * comprimento\n",
    "\n",
    "print(\"A área da sala é de: {}m²\" .format(metros_quadrados))"
   ]
  },
  {
   "cell_type": "markdown",
   "id": "2a285929",
   "metadata": {},
   "source": [
    "#### 8. Faça um Programa que pergunte quanto você ganha por hora e o número de horas trabalhadas no mês. Calcule e mostre o total do seu salário no referido mês."
   ]
  },
  {
   "cell_type": "code",
   "execution_count": 9,
   "id": "359e2232",
   "metadata": {},
   "outputs": [
    {
     "name": "stdout",
     "output_type": "stream",
     "text": [
      "Quanto você ganha por hora trabalhada?79.54\n",
      "Quantas horas você trabalha por mês?132\n",
      "Seu salário deverá ser R$ 10499.28\n"
     ]
    }
   ],
   "source": [
    "valor_hora = float(input(\"Quanto você ganha por hora trabalhada?\"))\n",
    "hora_trabalhada = int(input(\"Quantas horas você trabalha por mês?\"))\n",
    "salario = valor_hora * hora_trabalhada\n",
    "\n",
    "print(\"Seu salário deverá ser R$ {}\" .format(salario))"
   ]
  },
  {
   "cell_type": "markdown",
   "id": "7e2d4615",
   "metadata": {},
   "source": [
    "#### 9. Vamos criar um conversor de temperatura. Faça um Programa que peça a temperatura em graus Fahrenheit, transforme e mostre a temperatura em graus Celsius.\n",
    "$C = \\frac{5}{9}(F-32)$"
   ]
  },
  {
   "cell_type": "code",
   "execution_count": 14,
   "id": "82daf9fd",
   "metadata": {},
   "outputs": [
    {
     "name": "stdout",
     "output_type": "stream",
     "text": [
      "Indique uma temperatura em Fahrenheit: 60\n",
      "A temperatura equivalente em Celsius é de 15.555555555555555°\n"
     ]
    }
   ],
   "source": [
    "temp = float(input(\"Indique uma temperatura em Fahrenheit: \"))\n",
    "celsius = (5 * (temp - 32)) / 9\n",
    "\n",
    "print(\"A temperatura equivalente em Celsius é de {}°\" .format(celsius))"
   ]
  },
  {
   "cell_type": "markdown",
   "id": "20708b1c",
   "metadata": {},
   "source": [
    "#### 10. Faça um Programa que peça a temperatura em graus Celsius, transforme e mostre em graus Fahrenheit.\n",
    "$F = \\frac{9}{5}C + 32$"
   ]
  },
  {
   "cell_type": "code",
   "execution_count": 16,
   "id": "c73cfb38",
   "metadata": {},
   "outputs": [
    {
     "name": "stdout",
     "output_type": "stream",
     "text": [
      "Indique uma temperatura em Fahrenheit: 0\n",
      "A temperatura equivalente em Celsius é de 32.0°\n"
     ]
    }
   ],
   "source": [
    "temp = float(input(\"Indique uma temperatura em Fahrenheit: \"))\n",
    "fahr = ((9 * temp) / 5) + 32\n",
    "\n",
    "print(\"A temperatura equivalente em Celsius é de {}°\" .format(fahr))"
   ]
  },
  {
   "cell_type": "markdown",
   "id": "b263a9dc",
   "metadata": {},
   "source": [
    "#### 12. Tendo como dados de entrada a altura (h) de uma pessoa, construa um algoritmo que calcule seu peso ideal, usando a seguinte fórmula:\n",
    "$P = 72,7h - 58$\n",
    "\n",
    "Lembrando que \"algoritmo\" nada mais é do que um programa, como todos os outros que você vem fazendo"
   ]
  },
  {
   "cell_type": "code",
   "execution_count": 18,
   "id": "9a9b8dca",
   "metadata": {},
   "outputs": [
    {
     "name": "stdout",
     "output_type": "stream",
     "text": [
      "Informe sua altura: 1.71\n",
      "Opeso ideal com base na sua altura é de: 66.31700000000001\n"
     ]
    }
   ],
   "source": [
    "h = float(input(\"Informe sua altura: \"))\n",
    "p= (72.7 * h) - 58\n",
    "\n",
    "print(\"Opeso ideal com base na sua altura é de: {}kg\" . format(p))"
   ]
  },
  {
   "cell_type": "markdown",
   "id": "13bb40d7",
   "metadata": {},
   "source": [
    "#### 13. Tendo como dado de entrada a altura (h) de uma pessoa, construa um algoritmo que calcule seu peso ideal, utilizando as seguintes fórmulas:\n",
    "##### a. Para homens: $P = 72,7h - 58$\n",
    "##### b. Para mulheres: $P = 62,1h - 44,7$"
   ]
  },
  {
   "cell_type": "code",
   "execution_count": 20,
   "id": "bf82dc8c",
   "metadata": {},
   "outputs": [
    {
     "name": "stdout",
     "output_type": "stream",
     "text": [
      "Homens, informem sua altura (se for mulher preencha com 0): 0\n",
      "Mulheres, informem sua altura (se for homem preencha com 0): 1.68\n",
      "Se preencheu a altura referente a homem, seu peso ideal é de: -58.0\n",
      "Se preencheu a altura refente a mulher, seu peso ideal é de: 59.628\n"
     ]
    }
   ],
   "source": [
    "homem = float(input(\"Homens, informem sua altura (se for mulher preencha com 0): \"))\n",
    "mulher = float(input(\"Mulheres, informem sua altura (se for homem preencha com 0): \"))\n",
    "p_homens = (72.7 * homem) - 58\n",
    "p_mulheres = (62.1 * mulher) - 44.7\n",
    "\n",
    "print(\"Se preencheu a altura referente a homem, seu peso ideal é de: {}kg\" .format(p_homens))\n",
    "print(\"Se preencheu a altura refente a mulher, seu peso ideal é de: {}kg\" .format(p_mulheres))"
   ]
  },
  {
   "cell_type": "markdown",
   "id": "f208ef89",
   "metadata": {},
   "source": [
    "#### 15. Faça um Programa que pergunte quanto você ganha por hora e o número de horas trabalhadas no mês."
   ]
  },
  {
   "cell_type": "code",
   "execution_count": 21,
   "id": "2d5b23e0",
   "metadata": {},
   "outputs": [
    {
     "name": "stdout",
     "output_type": "stream",
     "text": [
      "Quanto você por hora?2.5\n",
      "Quantas horas você trabalha no mês?40\n",
      "Suas hora valem R$ 2.5 e você trabalha 40.0 horas ao total no mês\n"
     ]
    }
   ],
   "source": [
    "ganho_horas = float(input(\"Quanto você por hora?\"))\n",
    "horas_trabalhadas = float(input(\"Quantas horas você trabalha no mês?\"))\n",
    "\n",
    "print(\"Suas hora valem R$ {} e você trabalha {} horas ao total no mês\" .format(ganho_horas,horas_trabalhadas))"
   ]
  },
  {
   "cell_type": "markdown",
   "id": "607dee3c",
   "metadata": {},
   "source": [
    "#####  Calcule o salário bruto (horas * salario por hora)"
   ]
  },
  {
   "cell_type": "code",
   "execution_count": 22,
   "id": "7f80ccbb",
   "metadata": {},
   "outputs": [
    {
     "name": "stdout",
     "output_type": "stream",
     "text": [
      "Seu salário bruto é de R$ 100.0\n"
     ]
    }
   ],
   "source": [
    "s_bruto = ganho_horas * horas_trabalhadas\n",
    "\n",
    "print(\"Seu salário bruto é de R$ {}\" .format(s_bruto))"
   ]
  },
  {
   "cell_type": "markdown",
   "id": "2ed93cb0",
   "metadata": {},
   "source": [
    "##### Calcule o desconto do IR (11% do salário bruto)"
   ]
  },
  {
   "cell_type": "code",
   "execution_count": 23,
   "id": "3363e22f",
   "metadata": {},
   "outputs": [
    {
     "name": "stdout",
     "output_type": "stream",
     "text": [
      "Seu desconto do Imposto de Renda é de R$11.0\n"
     ]
    }
   ],
   "source": [
    "ir = (11 * s_bruto) / 100\n",
    "\n",
    "print(\"Seu desconto do Imposto de Renda é de R${}\" .format(ir))"
   ]
  },
  {
   "cell_type": "markdown",
   "id": "0994b2c0",
   "metadata": {},
   "source": [
    "##### Calcule o desconto do INSS (8% do salário bruto)"
   ]
  },
  {
   "cell_type": "code",
   "execution_count": 24,
   "id": "748c6088",
   "metadata": {},
   "outputs": [
    {
     "name": "stdout",
     "output_type": "stream",
     "text": [
      "Seu desconto do INSS é de R$8.0\n"
     ]
    }
   ],
   "source": [
    "inss = (8 * s_bruto) / 100\n",
    "\n",
    "print(\"Seu desconto do INSS é de R${}\" .format(inss))"
   ]
  },
  {
   "cell_type": "markdown",
   "id": "06e8dae4",
   "metadata": {},
   "source": [
    "##### Calcule o desconto do sindicato (5% do salário bruto)"
   ]
  },
  {
   "cell_type": "code",
   "execution_count": 25,
   "id": "21b95b15",
   "metadata": {
    "scrolled": true
   },
   "outputs": [
    {
     "name": "stdout",
     "output_type": "stream",
     "text": [
      "Seu desconto do sindicato é de R$5.0\n"
     ]
    }
   ],
   "source": [
    "sind = (5 * s_bruto) / 100\n",
    "\n",
    "print(\"Seu desconto do sindicato é de R${}\" .format(sind))"
   ]
  },
  {
   "cell_type": "markdown",
   "id": "bb14ce36",
   "metadata": {},
   "source": [
    "##### Calcule o salário líquido (salário bruto - descontos)"
   ]
  },
  {
   "cell_type": "code",
   "execution_count": 27,
   "id": "56317086",
   "metadata": {},
   "outputs": [
    {
     "name": "stdout",
     "output_type": "stream",
     "text": [
      "Seu salário líquido é R$76.0\n"
     ]
    }
   ],
   "source": [
    "s_liq = (s_bruto - (ir + inss + sind))\n",
    "\n",
    "print(\"Seu salário líquido é R${}\" .format(s_liq))"
   ]
  },
  {
   "cell_type": "markdown",
   "id": "cfbfcc87",
   "metadata": {},
   "source": [
    "#### 16. Faça um programa para uma loja de tintas. O programa deverá pedir o tamanho em metros quadrados da área a ser pintada. Considere que a cobertura da tinta é de 1 litro para cada 3 metros quadrados e que a tinta é vendida em latas de 18 litros, que custam R\\$ 80,00. Informe ao usuário a quantidades de latas de tinta a serem compradas e o preço total. (para simplificação nesse momento, não se preocupe em arredondar a quantidade de latas a serem compradas - vamos trabalhar isso em breve)"
   ]
  },
  {
   "cell_type": "code",
   "execution_count": 29,
   "id": "fb6a083b",
   "metadata": {},
   "outputs": [
    {
     "name": "stdout",
     "output_type": "stream",
     "text": [
      "Informe a largura da sala: 8\n",
      "Informe o comprimento da sala: 15\n",
      "Para sua pintura serão necessárias 2 latas de tinta, totalizando R$177.77777777777777\n"
     ]
    }
   ],
   "source": [
    "largura = int(input(\"Informe a largura da sala: \"))\n",
    "comprimento = int(input(\"Informe o comprimento da sala: \"))\n",
    "\n",
    "#Calcula quantos metros quadrados tem a casa\n",
    "metros_quadrados = largura * comprimento\n",
    "\n",
    "#Calcula a quantidade de litros totais que serão necessários para a casa\n",
    "litros_por_metro = metros_quadrados / 3\n",
    "\n",
    "#Calcula a quantidade de latas de tintas para a pintura\n",
    "qntd_latas = int(litros_por_metro / 18)\n",
    "\n",
    "#Calcula o valor total da compra das latas de tintas\n",
    "valor_total = (80 * litros_por_metro) / 18\n",
    "\n",
    "print(\"Para sua pintura serão necessárias {} latas de tinta, totalizando R${}\" . format(qntd_latas,valor_total))"
   ]
  },
  {
   "cell_type": "markdown",
   "id": "d6503c92",
   "metadata": {},
   "source": [
    "#### 18. Faça um programa que peça o tamanho de um arquivo para download (em MB) e a velocidade de um link de Internet (em Mbps), calcule e informe o tempo aproximado de download do arquivo usando este link (em minutos).\n",
    "\n",
    "Detalhe: MB significa megabyte, Mb (com b minúsculo) significa megabit. Um megabit é 1/8 de um megabyte. "
   ]
  },
  {
   "cell_type": "code",
   "execution_count": null,
   "id": "0563aa62",
   "metadata": {},
   "outputs": [
    {
     "name": "stdout",
     "output_type": "stream",
     "text": [
      "Informe o tamanho do arquivo em MB: 100\n"
     ]
    }
   ],
   "source": [
    "tamanho = float(input(\"Informe o tamanho do arquivo em MB: \"))\n",
    "velocidade = float(input(\"Informe a velocidade da sua internet em Mbps: \"))\n",
    "\n",
    "# Conversao de megabit para megabyte\n",
    "conversao = velocidade * 8\n",
    "\n",
    "# Calculo do tempo de download\n",
    "tempo = tamanho / conversao\n",
    "\n",
    "# Conversão do tempo de download para minutos \n",
    "minutos = tempo / 60\n",
    "\n",
    "print(\"O tempo estimado de download é de {} minutos\" .format(minutos))"
   ]
  },
  {
   "cell_type": "code",
   "execution_count": null,
   "id": "058c8f3c",
   "metadata": {},
   "outputs": [],
   "source": []
  }
 ],
 "metadata": {
  "kernelspec": {
   "display_name": "Python 3 (ipykernel)",
   "language": "python",
   "name": "python3"
  },
  "language_info": {
   "codemirror_mode": {
    "name": "ipython",
    "version": 3
   },
   "file_extension": ".py",
   "mimetype": "text/x-python",
   "name": "python",
   "nbconvert_exporter": "python",
   "pygments_lexer": "ipython3",
   "version": "3.9.13"
  }
 },
 "nbformat": 4,
 "nbformat_minor": 5
}
