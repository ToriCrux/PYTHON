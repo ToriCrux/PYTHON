{
 "cells": [
  {
   "cell_type": "markdown",
   "id": "247d84c1",
   "metadata": {},
   "source": [
    "### ORDEM DE EXECUÇÃO"
   ]
  },
  {
   "cell_type": "markdown",
   "id": "aef84935",
   "metadata": {},
   "source": [
    "###### A ordem em que escrevemos o código IMPORTA.\n",
    "###### Portanto, é necessário se ater que o código tem uma leitura de cima para baixo. Então é inviável alguns comportamentos, pois a li"
   ]
  },
  {
   "cell_type": "markdown",
   "id": "60c7833a",
   "metadata": {},
   "source": [
    "### TIPOS DE VARIAVÉIS EM PYTHON"
   ]
  },
  {
   "cell_type": "markdown",
   "id": "c7a399e3",
   "metadata": {},
   "source": [
    "###### Uma variável é um objeto, afinal tudo é um objeto em Python. E temos como principais tipos de variáveis:\n",
    "\n",
    "\n",
    "Int - inteiro ;<br>\n",
    "String - texto ;<br>\n",
    "Float - número com casa decimais (pontos \"flutuantes\") ;<br>\n",
    "Bool ou Boolean - True ou False ;<br>\n",
    "\n",
    "\n",
    "Obs.: Variáveis em Python não são declaradas explicitamente, mas isso não significa que você deve ficar mudando o tempo todo;<br>\n",
    "Obs2.: Cuidado com os nomes restritos na hora de declarar as variáveis."
   ]
  },
  {
   "cell_type": "code",
   "execution_count": 1,
   "id": "9de3e6ec",
   "metadata": {},
   "outputs": [
    {
     "data": {
      "text/plain": [
       "int"
      ]
     },
     "execution_count": 1,
     "metadata": {},
     "output_type": "execute_result"
    }
   ],
   "source": [
    "faturamento = 1000\n",
    "type(faturamento)"
   ]
  },
  {
   "cell_type": "code",
   "execution_count": 2,
   "id": "d536102a",
   "metadata": {},
   "outputs": [
    {
     "data": {
      "text/plain": [
       "float"
      ]
     },
     "execution_count": 2,
     "metadata": {},
     "output_type": "execute_result"
    }
   ],
   "source": [
    "lucro = 983.27\n",
    "type(lucro)"
   ]
  },
  {
   "cell_type": "code",
   "execution_count": 3,
   "id": "84ee7b84",
   "metadata": {},
   "outputs": [
    {
     "data": {
      "text/plain": [
       "str"
      ]
     },
     "execution_count": 3,
     "metadata": {},
     "output_type": "execute_result"
    }
   ],
   "source": [
    "margem = \"103.8%\"\n",
    "type(margem)"
   ]
  },
  {
   "cell_type": "code",
   "execution_count": 5,
   "id": "9736e7d3",
   "metadata": {},
   "outputs": [
    {
     "data": {
      "text/plain": [
       "bool"
      ]
     },
     "execution_count": 5,
     "metadata": {},
     "output_type": "execute_result"
    }
   ],
   "source": [
    "meta_mes = True\n",
    "type(meta_mes)"
   ]
  },
  {
   "cell_type": "markdown",
   "id": "896ad19c",
   "metadata": {},
   "source": [
    "### MISTURANDO TIPOS DE VARIÁVEIS"
   ]
  },
  {
   "cell_type": "markdown",
   "id": "ef0ace88",
   "metadata": {},
   "source": [
    "No Python, assim como em quase todas as liguagens de programação é muito dificil concatenar variaveis de tipos diferentes. Portanto para que essa ação ocorra, existem algumas maneiras.\n",
    "\n",
    "Uma delas é a de indicar o tipo da variável, como vemos no exemplo abaixo:"
   ]
  },
  {
   "cell_type": "code",
   "execution_count": 9,
   "id": "5d84270b",
   "metadata": {},
   "outputs": [
    {
     "name": "stdout",
     "output_type": "stream",
     "text": [
      "O faturamento da loja foi: 1000\n"
     ]
    }
   ],
   "source": [
    "faturamento = 1000\n",
    "print(\"O faturamento da loja foi: \" + str(faturamento))"
   ]
  },
  {
   "cell_type": "markdown",
   "id": "6ee7e84b",
   "metadata": {},
   "source": [
    "### COMANDO FORMAT"
   ]
  },
  {
   "cell_type": "markdown",
   "id": "e48a4325",
   "metadata": {},
   "source": [
    "Uma segunda forma de mesclar valores de diferentes tipos é atraves da função format, que possuí a vantangem de não ter que formatar o tipo da variável para que ela seja mesclada as demais. Essa função apresenta a seguinte estrutura:"
   ]
  },
  {
   "cell_type": "code",
   "execution_count": 12,
   "id": "a3ac3088",
   "metadata": {},
   "outputs": [
    {
     "name": "stdout",
     "output_type": "stream",
     "text": [
      "O faturamento da loja foi: 2700\n",
      "E apesar do custo da loja ser de 1400, a loja obteve um lucro de 1300\n"
     ]
    }
   ],
   "source": [
    "faturamento = 2700\n",
    "custo = 1400\n",
    "lucro = faturamento - custo\n",
    "\n",
    "print(\"O faturamento da loja foi: {}\" .format(faturamento))\n",
    "print(\"E apesar do custo da loja ser de {}, a loja obteve um lucro de {}\" .format(custo,lucro))"
   ]
  },
  {
   "cell_type": "markdown",
   "id": "8b7e7d11",
   "metadata": {},
   "source": [
    "### FSTRING E MUDANÇA DE TIPOS DE VARIAVEIS"
   ]
  },
  {
   "cell_type": "markdown",
   "id": "fb812649",
   "metadata": {},
   "source": [
    "Existem algumas formas de utilizar o Fstring, e essa é uma delas."
   ]
  },
  {
   "cell_type": "code",
   "execution_count": 15,
   "id": "14d34fb9",
   "metadata": {},
   "outputs": [
    {
     "name": "stdout",
     "output_type": "stream",
     "text": [
      "O faturamento da loja foi de 2700, e seu lucro 1300\n",
      "O faturamento da loja foi de 2700, e seu lucro 1300\n"
     ]
    }
   ],
   "source": [
    "faturamento = 2700\n",
    "custo = 1400\n",
    "lucro = faturamento - custo\n",
    "\n",
    "#exibição com o format\n",
    "print(\"O faturamento da loja foi de {}, e seu lucro {}\" .format(faturamento,lucro))\n",
    "\n",
    "#com o fstring\n",
    "print(f\"O faturamento da loja foi de {faturamento}, e seu lucro {lucro}\")"
   ]
  },
  {
   "cell_type": "markdown",
   "id": "2b588721",
   "metadata": {},
   "source": [
    "E uma forma que podemos mudar os tipos de variáveis é:"
   ]
  },
  {
   "cell_type": "code",
   "execution_count": 18,
   "id": "dc8f6038",
   "metadata": {},
   "outputs": [
    {
     "name": "stdout",
     "output_type": "stream",
     "text": [
      "Insira o faturamento: 2700\n",
      "Insira o custo: 1400\n",
      "Seu lucro foi de: 1300\n"
     ]
    }
   ],
   "source": [
    "faturamento = int(input(\"Insira o faturamento: \"))\n",
    "custo = int(input(\"Insira o custo: \"))\n",
    "\n",
    "lucro = faturamento - custo\n",
    "\n",
    "#str - mudando para string\n",
    "#faturamento = str(input(\"Insira o faturamento\"))\n",
    "\n",
    "#int - mudando para inteiro\n",
    "#faturamento = int(input(\"Insira o faturamento\"))\n",
    "\n",
    "#float - mudando para decimal\n",
    "#faturamento = float(input(\"Insira o faturamento\"))\n",
    "\n",
    "\n",
    "print(\"Seu lucro foi de: {}\" .format(lucro))"
   ]
  },
  {
   "cell_type": "markdown",
   "id": "c143502f",
   "metadata": {},
   "source": [
    "![ALT](https://img.olhardigital.com.br/wp-content/uploads/2016/02/20160204135257.jpg)"
   ]
  },
  {
   "cell_type": "code",
   "execution_count": null,
   "id": "e178f8f4",
   "metadata": {},
   "outputs": [],
   "source": []
  }
 ],
 "metadata": {
  "kernelspec": {
   "display_name": "Python 3 (ipykernel)",
   "language": "python",
   "name": "python3"
  },
  "language_info": {
   "codemirror_mode": {
    "name": "ipython",
    "version": 3
   },
   "file_extension": ".py",
   "mimetype": "text/x-python",
   "name": "python",
   "nbconvert_exporter": "python",
   "pygments_lexer": "ipython3",
   "version": "3.9.13"
  }
 },
 "nbformat": 4,
 "nbformat_minor": 5
}
