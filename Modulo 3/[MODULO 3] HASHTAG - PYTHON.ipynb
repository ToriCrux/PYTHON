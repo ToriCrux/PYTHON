{
 "cells": [
  {
   "cell_type": "markdown",
   "id": "9422c33a",
   "metadata": {},
   "source": [
    "### CONDIÇÕES NO PYTHON"
   ]
  },
  {
   "cell_type": "markdown",
   "id": "52f984a8",
   "metadata": {},
   "source": [
    "##### ESTRUTURA:\n",
    "\n",
    " As estruturas condições tem como objetivo principal, controlar um determinado fluxo de execução de código, através de condições. Ou seja, **só será possível executar uma determinada ação se e somente se uma condição for satisfeita.**\n",
    "\n",
    "IF condição:\n",
    "    o que fazer caso a condição seja verdadeira\n",
    "    \n",
    "SE chover:\n",
    "    vou ao cinema\n",
    "SENÃO:\n",
    "    vou a praia\n",
    "\n",
    " Temos como estruturas condicionais as seguintes fuções: IF, ELSE e ELIF\n",
    " - IF -> é o nosso \"SE\", através dele indicamos qual a condição que deverá ser satisfeita;\n",
    " \n",
    " - ELIF -> é a função que possibilita indicarmos mais de uma condição, podemos interpretar como um \"MAS SENÃO\", por exemplo:\n",
    " \n",
    "     SE tiver tempo:\n",
    "         vou ao shopping\n",
    "     MAS SENÃO tiver tarde:\n",
    "         vou ao mercado\n",
    "     SENÃO:\n",
    "         vou para casa\n",
    "         \n",
    " A partir do momento em que a primeira condição não for verdadeira e sua ação não for realizada, então é posto em validação a segunda condição dada (a indicada através do elif) para verificar se ela é verdadeira, e sendo verdadeira então é realizada a ação indicada por essa condição;\n",
    " \n",
    " - ELSE -> é o nosso \"SENÃO\", a partir do momento em que a primeira condição for dada e a sua ação não for realizada por não ser verdadeira aquela condição, executamos a segunda ação que é indicada justamente através dessa função. \n",
    " Contudo, pode haver mais de uma condição (estruturas condicionais mais elaboradas, que tem o elif), nesse caso o entendimento segue o mesmo, se nenhuma das condições anteriores for verdadeira e suas respectivas ações executadas, então a ação determinada através do else é a que será acionada.\n",
    "\n",
    "##### USO MAIS SIMPLES:\n",
    "\n"
   ]
  },
  {
   "cell_type": "markdown",
   "id": "4bddf84a",
   "metadata": {},
   "source": []
  },
  {
   "cell_type": "code",
   "execution_count": null,
   "id": "90702b21",
   "metadata": {},
   "outputs": [],
   "source": []
  }
 ],
 "metadata": {
  "kernelspec": {
   "display_name": "Python 3 (ipykernel)",
   "language": "python",
   "name": "python3"
  },
  "language_info": {
   "codemirror_mode": {
    "name": "ipython",
    "version": 3
   },
   "file_extension": ".py",
   "mimetype": "text/x-python",
   "name": "python",
   "nbconvert_exporter": "python",
   "pygments_lexer": "ipython3",
   "version": "3.9.13"
  }
 },
 "nbformat": 4,
 "nbformat_minor": 5
}
