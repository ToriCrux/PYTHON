{
 "cells": [
  {
   "cell_type": "markdown",
   "id": "fc79056b",
   "metadata": {},
   "source": [
    "MEU PRIMEIRO PROGRAMA, AULA COM O CURSO HASHTAG!"
   ]
  },
  {
   "cell_type": "markdown",
   "id": "62af80ba",
   "metadata": {},
   "source": [
    "A função print é uma função de saída que possibilita que o usuário visualize um retorno de ação cometida pelo Python."
   ]
  },
  {
   "cell_type": "code",
   "execution_count": 2,
   "id": "61f55acb",
   "metadata": {},
   "outputs": [
    {
     "name": "stdout",
     "output_type": "stream",
     "text": [
      "Hello World!\n"
     ]
    }
   ],
   "source": [
    "print( \"Hello World!\")"
   ]
  },
  {
   "cell_type": "markdown",
   "id": "d58fd647",
   "metadata": {},
   "source": [
    "OPERAÇÕES MATEMÁTICAS"
   ]
  },
  {
   "cell_type": "markdown",
   "id": "e10b2914",
   "metadata": {},
   "source": [
    "Através do Python é possível realizar operações matemáticas de\n",
    "forma bem intuitiva. Abaixo é possível entender como realizar cada\n",
    "operação e na sequência exemplos dessas operações:\n",
    "    \n",
    "    * SOMA: assim como conhecemos o símbolo que representa a soma\n",
    "        é o sinal de + ;\n",
    "    * SUBTRAÇÃO: o sinal que possibilita essa operação também é\n",
    "        como o convencional que conhecemos - ;\n",
    "    * MULTIPLICAÇÃO: para essa operação matemática o sinal é um\n",
    "        pouco diferente, sendo ele representado por * ;\n",
    "    * POTÊNCIA: é possível através do Python realizar de forma\n",
    "        prática a operação de multiplicação, para isso basta \n",
    "        utilizar o símbolo ** ;\n",
    "    * DIVISÃO: esse é um símbolo que também temos familiaridade,\n",
    "        para representar essa ação é utilizado a / ;\n",
    "    * RESTO DA DIVISÃO: uma operação também possível é a de calcular\n",
    "        o resto de uma divisão matemática, para isso basta usar % ;\n",
    "        \n",
    "OBS.: Caso você realize qualquer operação dentro de aspas o Python\n",
    "reconhece essa ação como texto e não realiza a operação em si,\n",
    "retornando assim um resultado diferente do esperado;\n",
    "\n",
    "OBS1.: Para realizar operações com números decimais (float) é \n",
    "necessário que se use \".\" ao invés de \",\";\n",
    "\n",
    "OBS2.: As operações no Python seguem as mesmas lógicas e ordens de\n",
    "operações matemáticas;\n"
   ]
  },
  {
   "cell_type": "code",
   "execution_count": 14,
   "id": "8ab7c64b",
   "metadata": {},
   "outputs": [
    {
     "name": "stdout",
     "output_type": "stream",
     "text": [
      "2\n",
      "1 + 1\n",
      "15\n",
      "220\n",
      "58.2\n",
      "729\n",
      "12.333333333333334\n",
      "3\n"
     ]
    }
   ],
   "source": [
    "# EXEMPLOS DE OPERAÇÕES MATEMÁTICAS\n",
    "\n",
    "print (1 + 1)\n",
    "print (\"1 + 1\")\n",
    "print (38 - 23)\n",
    "print (55 * 4)\n",
    "print (29.1 * 2)\n",
    "print (9 ** 3)\n",
    "print (74 / 6)\n",
    "print (27 % 8)"
   ]
  },
  {
   "cell_type": "markdown",
   "id": "4155328c",
   "metadata": {},
   "source": [
    "OPERAÇÕES COM TEXTO (STRING)"
   ]
  },
  {
   "cell_type": "markdown",
   "id": "e9186545",
   "metadata": {},
   "source": [
    "O que é uma string?\n",
    "São justamente os formatos de texto que se encontram, geralmente, entre aspas (podendo elas serem simples ou duplas)."
   ]
  },
  {
   "cell_type": "code",
   "execution_count": null,
   "id": "40992d63",
   "metadata": {},
   "outputs": [],
   "source": []
  }
 ],
 "metadata": {
  "kernelspec": {
   "display_name": "Python 3 (ipykernel)",
   "language": "python",
   "name": "python3"
  },
  "language_info": {
   "codemirror_mode": {
    "name": "ipython",
    "version": 3
   },
   "file_extension": ".py",
   "mimetype": "text/x-python",
   "name": "python",
   "nbconvert_exporter": "python",
   "pygments_lexer": "ipython3",
   "version": "3.9.13"
  },
  "vscode": {
   "interpreter": {
    "hash": "93847afed7b0c9c5f4d42e27bddbcf9b8e94491f502db8e56043127f6574bd34"
   }
  }
 },
 "nbformat": 4,
 "nbformat_minor": 5
}
